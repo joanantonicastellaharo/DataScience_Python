{
 "cells": [
  {
   "cell_type": "code",
   "execution_count": 1,
   "metadata": {},
   "outputs": [],
   "source": [
    "# Loading Libraries & Packages\n",
    "import pandas as pd"
   ]
  },
  {
   "cell_type": "code",
   "execution_count": 2,
   "metadata": {},
   "outputs": [],
   "source": [
    "# Reading Excel file\n",
    "lang_1 = pd.read_excel('../Datasources/scenario_1.xlsx')# .head(50)\n",
    "# language_1.head()"
   ]
  },
  {
   "cell_type": "code",
   "execution_count": 3,
   "metadata": {},
   "outputs": [],
   "source": [
    "lang_1 = lang_1.drop([\"category_id\",\"category_name\",\"concept_id\",\"concept_name\",\"external_id\"], axis=1)\n",
    "# lang_1.head()"
   ]
  },
  {
   "cell_type": "code",
   "execution_count": 4,
   "metadata": {},
   "outputs": [],
   "source": [
    "# Melt languages descriptions\n",
    "lang_1_melted = lang_1.melt(id_vars=[\"parent_id\",\"parent_name\"], \n",
    "        var_name=\"lang\", \n",
    "        value_name=\"desc\")"
   ]
  },
  {
   "cell_type": "code",
   "execution_count": 5,
   "metadata": {},
   "outputs": [
    {
     "name": "stdout",
     "output_type": "stream",
     "text": [
      "6228\n",
      "839\n"
     ]
    }
   ],
   "source": [
    "# Sorting after melting\n",
    "lang_1_melted.sort_values([\"parent_id\",\"parent_name\"])\n",
    "\n",
    "# len before dropping (check)\n",
    "print(len(lang_1_melted))\n",
    "\n",
    "# dropping ALL duplicte values \n",
    "lang_1_melted.drop_duplicates(keep=False,inplace=True) \n",
    "\n",
    "# len after dripping (Check)\n",
    "print(len(lang_1_melted))\n",
    "\n",
    "# Reordering Cols\n",
    "cols = [\"lang\",\"parent_name\",\"parent_id\",\"desc\"]\n",
    "lang_1_melted = lang_1_melted[cols]\n",
    "\n",
    "# reindex dataframe\n",
    "lang_1_melted.reset_index(drop=True, inplace=True)\n",
    "# lang_1_melted"
   ]
  },
  {
   "cell_type": "code",
   "execution_count": 6,
   "metadata": {},
   "outputs": [
    {
     "data": {
      "text/plain": [
       "<pandas.core.groupby.generic.DataFrameGroupBy object at 0x0000015C17A11448>"
      ]
     },
     "execution_count": 6,
     "metadata": {},
     "output_type": "execute_result"
    }
   ],
   "source": [
    "# Grouping by keys\n",
    "lang_1_melted.groupby([\"lang\",\"parent_name\",\"parent_id\"])\n"
   ]
  },
  {
   "cell_type": "code",
   "execution_count": 7,
   "metadata": {},
   "outputs": [
    {
     "data": {
      "text/html": [
       "<div>\n",
       "<style scoped>\n",
       "    .dataframe tbody tr th:only-of-type {\n",
       "        vertical-align: middle;\n",
       "    }\n",
       "\n",
       "    .dataframe tbody tr th {\n",
       "        vertical-align: top;\n",
       "    }\n",
       "\n",
       "    .dataframe thead th {\n",
       "        text-align: right;\n",
       "    }\n",
       "</style>\n",
       "<table border=\"1\" class=\"dataframe\">\n",
       "  <thead>\n",
       "    <tr style=\"text-align: right;\">\n",
       "      <th></th>\n",
       "      <th>lang</th>\n",
       "      <th>parent_name</th>\n",
       "      <th>parent_id</th>\n",
       "      <th>desc</th>\n",
       "    </tr>\n",
       "  </thead>\n",
       "  <tbody>\n",
       "    <tr>\n",
       "      <th>0</th>\n",
       "      <td>AR</td>\n",
       "      <td>animals</td>\n",
       "      <td>74483</td>\n",
       "      <td>بهائم,حيوان,بهيمة,بهيمة,عجماء,عجماء,حيوان,بهائ...</td>\n",
       "    </tr>\n",
       "    <tr>\n",
       "      <th>1</th>\n",
       "      <td>AR</td>\n",
       "      <td>atmosphere</td>\n",
       "      <td>32860</td>\n",
       "      <td>أجواء,اهواء,أهواء,أهواء,اهواء,مزاج,المزاج,أهوا...</td>\n",
       "    </tr>\n",
       "    <tr>\n",
       "      <th>2</th>\n",
       "      <td>AR</td>\n",
       "      <td>environment</td>\n",
       "      <td>66139</td>\n",
       "      <td>بيئة,بيآت,بيآت,بيئة</td>\n",
       "    </tr>\n",
       "    <tr>\n",
       "      <th>3</th>\n",
       "      <td>AR</td>\n",
       "      <td>fireplace</td>\n",
       "      <td>74577</td>\n",
       "      <td>مصطلا,مصطلى,مستوقد,مواقد,مستوقد,مصطلا,مصطلى,مو...</td>\n",
       "    </tr>\n",
       "    <tr>\n",
       "      <th>4</th>\n",
       "      <td>AR</td>\n",
       "      <td>frog</td>\n",
       "      <td>74430</td>\n",
       "      <td>عُلجوم,علجوم,ضفدع,ضفدعة,ضفدع,ضفدعة,علجوم,عُلجو...</td>\n",
       "    </tr>\n",
       "    <tr>\n",
       "      <th>...</th>\n",
       "      <td>...</td>\n",
       "      <td>...</td>\n",
       "      <td>...</td>\n",
       "      <td>...</td>\n",
       "    </tr>\n",
       "    <tr>\n",
       "      <th>167</th>\n",
       "      <td>ZH</td>\n",
       "      <td>peaceful</td>\n",
       "      <td>74417</td>\n",
       "      <td>nan,宁静的,和平的,和平的,宁静的,宁静</td>\n",
       "    </tr>\n",
       "    <tr>\n",
       "      <th>168</th>\n",
       "      <td>ZH</td>\n",
       "      <td>pet</td>\n",
       "      <td>74571</td>\n",
       "      <td>巴哥犬,泥料,猎犬,猎狗,走狗,狩,槍獵犬,执行官,小猎犬,牧犬,牧羊犬,狩,猎犬,猎狗,走...</td>\n",
       "    </tr>\n",
       "    <tr>\n",
       "      <th>169</th>\n",
       "      <td>ZH</td>\n",
       "      <td>quiet</td>\n",
       "      <td>74411</td>\n",
       "      <td>静,清静,幽静,寂静,宁静,安静,闹中取静,宁静,安静,寂静,幽静,清静,闹中取静,静</td>\n",
       "    </tr>\n",
       "    <tr>\n",
       "      <th>170</th>\n",
       "      <td>ZH</td>\n",
       "      <td>snake</td>\n",
       "      <td>74453</td>\n",
       "      <td>金环蛇,环蛇,蟒,蟒蛇,巨蟒,环蛇,金环蛇,巨蟒,蟒,蟒蛇,眼镜蛇,眼鏡蛇,蝰蛇,毒蛇,蝰蛇...</td>\n",
       "    </tr>\n",
       "    <tr>\n",
       "      <th>171</th>\n",
       "      <td>ZH</td>\n",
       "      <td>temperature</td>\n",
       "      <td>32971</td>\n",
       "      <td>室温,常温,体温,温度,冷热度数,气温,温度,热度,体温,冷热度数,气温,温度,热度,温度,...</td>\n",
       "    </tr>\n",
       "  </tbody>\n",
       "</table>\n",
       "<p>172 rows × 4 columns</p>\n",
       "</div>"
      ],
      "text/plain": [
       "    lang  parent_name parent_id  \\\n",
       "0     AR      animals     74483   \n",
       "1     AR   atmosphere     32860   \n",
       "2     AR  environment     66139   \n",
       "3     AR    fireplace     74577   \n",
       "4     AR         frog     74430   \n",
       "..   ...          ...       ...   \n",
       "167   ZH     peaceful     74417   \n",
       "168   ZH          pet     74571   \n",
       "169   ZH        quiet     74411   \n",
       "170   ZH        snake     74453   \n",
       "171   ZH  temperature     32971   \n",
       "\n",
       "                                                  desc  \n",
       "0    بهائم,حيوان,بهيمة,بهيمة,عجماء,عجماء,حيوان,بهائ...  \n",
       "1    أجواء,اهواء,أهواء,أهواء,اهواء,مزاج,المزاج,أهوا...  \n",
       "2                                  بيئة,بيآت,بيآت,بيئة  \n",
       "3    مصطلا,مصطلى,مستوقد,مواقد,مستوقد,مصطلا,مصطلى,مو...  \n",
       "4    عُلجوم,علجوم,ضفدع,ضفدعة,ضفدع,ضفدعة,علجوم,عُلجو...  \n",
       "..                                                 ...  \n",
       "167                             nan,宁静的,和平的,和平的,宁静的,宁静  \n",
       "168  巴哥犬,泥料,猎犬,猎狗,走狗,狩,槍獵犬,执行官,小猎犬,牧犬,牧羊犬,狩,猎犬,猎狗,走...  \n",
       "169        静,清静,幽静,寂静,宁静,安静,闹中取静,宁静,安静,寂静,幽静,清静,闹中取静,静  \n",
       "170  金环蛇,环蛇,蟒,蟒蛇,巨蟒,环蛇,金环蛇,巨蟒,蟒,蟒蛇,眼镜蛇,眼鏡蛇,蝰蛇,毒蛇,蝰蛇...  \n",
       "171  室温,常温,体温,温度,冷热度数,气温,温度,热度,体温,冷热度数,气温,温度,热度,温度,...  \n",
       "\n",
       "[172 rows x 4 columns]"
      ]
     },
     "execution_count": 7,
     "metadata": {},
     "output_type": "execute_result"
    }
   ],
   "source": [
    "# Coverting to string for applying join\n",
    "lang_str = lang_1_melted.applymap(str)\n",
    "\n",
    "# Concatenating descrptions (apply)\n",
    "lang_str = lang_str.groupby([\"lang\",\"parent_name\",\"parent_id\"])[\"desc\"].apply(','.join).reset_index()\n",
    "lang_str"
   ]
  },
  {
   "cell_type": "code",
   "execution_count": 8,
   "metadata": {},
   "outputs": [],
   "source": [
    "# Writing output file\n",
    "# lang_str.to_csv('../Datasources/scenario_1_out.csv') \n",
    "lang_str.to_excel(r'../Datasources/scenario_1_out.xlsx', sheet_name='Result',index=None)"
   ]
  },
  {
   "cell_type": "code",
   "execution_count": null,
   "metadata": {},
   "outputs": [],
   "source": []
  }
 ],
 "metadata": {
  "kernelspec": {
   "display_name": "Python 3",
   "language": "python",
   "name": "python3"
  },
  "language_info": {
   "codemirror_mode": {
    "name": "ipython",
    "version": 3
   },
   "file_extension": ".py",
   "mimetype": "text/x-python",
   "name": "python",
   "nbconvert_exporter": "python",
   "pygments_lexer": "ipython3",
   "version": "3.7.4"
  }
 },
 "nbformat": 4,
 "nbformat_minor": 2
}
