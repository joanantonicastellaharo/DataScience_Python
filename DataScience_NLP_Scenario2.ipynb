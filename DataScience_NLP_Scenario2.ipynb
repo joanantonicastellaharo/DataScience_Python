{
 "cells": [
  {
   "cell_type": "markdown",
   "metadata": {},
   "source": [
    "# SCENARIO 2"
   ]
  },
  {
   "cell_type": "code",
   "execution_count": null,
   "metadata": {},
   "outputs": [],
   "source": [
    "#Imp lib: \n",
    "import numpy as np\n",
    "import pandas as pd\n",
    "import nltk\n",
    "from nltk.book import *\n",
    "from nltk.corpus import stopwords\n",
    "from nltk import word_tokenize\n",
    "from nltk.probability import *\n"
   ]
  },
  {
   "cell_type": "code",
   "execution_count": null,
   "metadata": {},
   "outputs": [],
   "source": [
    "#Leeremos fichero: \n",
    "sc2= pd.read_excel('../Data/scenario_2.xlsx')\n",
    "sc2.head()"
   ]
  },
  {
   "cell_type": "code",
   "execution_count": null,
   "metadata": {},
   "outputs": [],
   "source": [
    "sc2.describe()"
   ]
  },
  {
   "cell_type": "code",
   "execution_count": null,
   "metadata": {},
   "outputs": [],
   "source": [
    "sc2.dtypes"
   ]
  },
  {
   "cell_type": "code",
   "execution_count": null,
   "metadata": {},
   "outputs": [],
   "source": [
    "#Deberemos extraer las palabras más frecuentes y agruparlas por idioma. Pero sabemos que los comentarios solo se dan en ingles. \n",
    "#Entonces -> quitaremos aquellos campos que esten vacíos NaN. \n",
    "sc2.isna()\n",
    "sc2.drop(sc2[sc2.Language.isna()].index, inplace = True)\n",
    "print(sc2)"
   ]
  },
  {
   "cell_type": "code",
   "execution_count": null,
   "metadata": {},
   "outputs": [],
   "source": [
    "#Para visualizar bien la tabla: \n",
    "sc2.head()"
   ]
  },
  {
   "cell_type": "code",
   "execution_count": null,
   "metadata": {},
   "outputs": [],
   "source": [
    "#Crearemos un nuevo dataframe con los datos de nuestro campo Review Text: \n",
    "description_list = sc2['Review Text'].tolist()\n",
    "print(description_list)"
   ]
  },
  {
   "cell_type": "code",
   "execution_count": null,
   "metadata": {},
   "outputs": [],
   "source": [
    "#Juntaremos todas la celdas como un único string: \n",
    "description_string = ' '.join(map(str, description_list))\n",
    "print(description_string)"
   ]
  },
  {
   "cell_type": "code",
   "execution_count": null,
   "metadata": {},
   "outputs": [],
   "source": [
    "#Separar y definir un set único de palabras -> sino te coje todas las letras por separado: \n",
    "str_list = description_string.split() \n",
    "unique_words = set(str_list) "
   ]
  },
  {
   "cell_type": "code",
   "execution_count": null,
   "metadata": {},
   "outputs": [],
   "source": [
    "#Repetición de las palabras con nltk\n",
    "fdist1 = FreqDist(str_list)\n",
    "fdist1.most_common (100)\n",
    "fdist1"
   ]
  },
  {
   "cell_type": "code",
   "execution_count": null,
   "metadata": {},
   "outputs": [],
   "source": [
    "#Dentro de nuestra distribución queremos ver aquellas palabras que se utilizan más de 5 veces:\n",
    "#definimos en 5 dado que suponemos que a partir de este número de repeticiones habrá una recurrencia de utilización: \n",
    "print_excel = sorted (w for w in set(fdist1) if fdist1[w] > 5)\n",
    "print(print_excel)"
   ]
  },
  {
   "cell_type": "code",
   "execution_count": null,
   "metadata": {},
   "outputs": [],
   "source": [
    "#Vemos que tipo de objeto es: \n",
    "type(print_excel)"
   ]
  },
  {
   "cell_type": "code",
   "execution_count": null,
   "metadata": {},
   "outputs": [],
   "source": [
    "#Para exportar a excel pasaremos de un tipo array a un dataframe\n",
    "dfinal = np.array(print_excel)\n",
    "dfinal\n",
    "dataframe=pd.DataFrame(dfinal, columns=['Key Words'])\n",
    "dataframe"
   ]
  },
  {
   "cell_type": "code",
   "execution_count": null,
   "metadata": {},
   "outputs": [],
   "source": [
    "#Crear fichero excel con la distribución fdist: \n",
    "dataframe.to_excel('../Data/Ejemplo_Scenario2.xlsx')"
   ]
  },
  {
   "cell_type": "code",
   "execution_count": null,
   "metadata": {},
   "outputs": [],
   "source": []
  }
 ],
 "metadata": {
  "kernelspec": {
   "display_name": "Python 3",
   "language": "python",
   "name": "python3"
  },
  "language_info": {
   "codemirror_mode": {
    "name": "ipython",
    "version": 3
   },
   "file_extension": ".py",
   "mimetype": "text/x-python",
   "name": "python",
   "nbconvert_exporter": "python",
   "pygments_lexer": "ipython3",
   "version": "3.7.4"
  }
 },
 "nbformat": 4,
 "nbformat_minor": 2
}
