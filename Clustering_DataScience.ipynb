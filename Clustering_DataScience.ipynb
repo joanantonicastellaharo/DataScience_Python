{
 "cells": [
  {
   "cell_type": "markdown",
   "metadata": {},
   "source": [
    "# ClinicalProteomic "
   ]
  },
  {
   "cell_type": "code",
   "execution_count": null,
   "metadata": {},
   "outputs": [],
   "source": [
    "#En primer lugar importaremos aquellas librerías que necesitaremos para realizar la práctica:  \n",
    "import numpy as np\n",
    "import pandas as pd\n",
    "import matplotlib.pyplot as plt\n",
    "import seaborn as sns \n",
    "%matplotlib inline\n",
    "\n",
    "from sklearn.model_selection import train_test_split"
   ]
  },
  {
   "cell_type": "code",
   "execution_count": null,
   "metadata": {},
   "outputs": [],
   "source": [
    "#Leeremos el fichero csv que nos proporciona el consorcio para así poder realizar el tratamiento de los datos: \n",
    "can_p1 = pd.read_csv('../Data/breast_cancer_data.csv')\n",
    "can_p1"
   ]
  },
  {
   "cell_type": "markdown",
   "metadata": {},
   "source": [
    "Realizamos una primera vista de los datos que aparecen en el fichero de Breast Cancer Data. Como podemos observar, hay valor que aparecen como nulos, según el consorcio sanitario estos valor se clasifican como proteínas que no se habrán encontrado durante el analisi. Empezaremos el proceso de ETL, borrando todos aquellos valores nulos. "
   ]
  },
  {
   "cell_type": "code",
   "execution_count": null,
   "metadata": {
    "scrolled": true
   },
   "outputs": [],
   "source": [
    "#Identificaremos aquellos valores en NaN: \n",
    "can_p1.isna()\n",
    "#Los reemplazamos:\n",
    "can_p1 = can_p1.fillna(0)\n",
    "can_p1.describe()"
   ]
  },
  {
   "cell_type": "markdown",
   "metadata": {},
   "source": [
    "Dada que las tres primeras columnas de nuestro data frame son muy extensas tienen cada una de ellas más de 10000 filas, la eliminaremos. Si quisieramos coonvertirlas en variables explicativas dado que tienen variable texto tendríamos muchísimas columnas para cada uno de los valores que incorporan cada uno de estos campos.  "
   ]
  },
  {
   "cell_type": "code",
   "execution_count": null,
   "metadata": {},
   "outputs": [],
   "source": [
    "#Borraremos los tres primeros campos de nuestro df nombrado \"can_p1\". \n",
    "df_cancer = can_p1.drop(['RefSeq_accession_number', 'gene_symbol','gene_name'],axis = 1)\n",
    "df_cancer"
   ]
  },
  {
   "cell_type": "code",
   "execution_count": null,
   "metadata": {
    "scrolled": true
   },
   "outputs": [],
   "source": [
    "#Verificaremos que todos los campos realmente tienen la misma longitud: \n",
    "df_cancer.describe()"
   ]
  },
  {
   "cell_type": "markdown",
   "metadata": {},
   "source": [
    "# Proceso de Clustering"
   ]
  },
  {
   "cell_type": "markdown",
   "metadata": {},
   "source": [
    "El objetivo de nuestra práctica será realizar un proceso de clusterización. En él, nos interesará poder clasificar aquellas muestras de tumores que sean parecidas para poder facilitar el estudio de los distintos cánceres de mama. \n",
    "Véase a continuación, el plroceso por el cuál queremos definit los distintos clústers que se pueden identificar en nuestro data set. "
   ]
  },
  {
   "cell_type": "markdown",
   "metadata": {},
   "source": [
    "Dado que no sabemos cuantos serán el número de clusters ideal para nuestro modelo utilizaremos el algoritmo 'elbow'. Así pues sabremos más o menos el número de agrupaciones que debemos utilizar. "
   ]
  },
  {
   "cell_type": "code",
   "execution_count": null,
   "metadata": {},
   "outputs": [],
   "source": [
    "#We need to find with kmeans elbow method the optimal value for 'k' (#clusters):\n",
    "\n",
    "#1. Primero importaremos las librerías necesarias para trabajar con este método: \n",
    "from sklearn.cluster import KMeans\n",
    "from sklearn import metrics\n",
    "from scipy.spatial.distance import cdist\n",
    "\n",
    "#2. Para determinar el número eficiente de k veremos: \n",
    "distortions = []\n",
    "K = range(1,10)\n",
    "for k in K:\n",
    "    kmeanModel = KMeans(n_clusters=k).fit(df_cancer)\n",
    "    kmeanModel.fit(df_cancer)\n",
    "    distortions.append(sum(np.min(cdist(df_cancer, kmeanModel.cluster_centers_, 'euclidean'), axis=1)) / df_cancer.shape[0])"
   ]
  },
  {
   "cell_type": "code",
   "execution_count": null,
   "metadata": {},
   "outputs": [],
   "source": [
    "#Graficaremos el método elbow: \n",
    "plt.plot(K, distortions, 'bx-')\n",
    "plt.xlabel('k')\n",
    "plt.ylabel('Distortion')\n",
    "plt.title('The Elbow Method showing the optimal k')\n",
    "plt.show()"
   ]
  },
  {
   "cell_type": "markdown",
   "metadata": {},
   "source": [
    "\n",
    "(*1) Ahora, necesitaremos utilizar el modelo Kmeans. Arriba podemos observar el gráfico 'The Elbow Method Showing the optimal k', así pues, podemos ver que el valor óptimo de k es de más o menos 6. "
   ]
  },
  {
   "cell_type": "markdown",
   "metadata": {},
   "source": [
    "\n",
    "Véase a continuación que necesitaremos modificar nuestro modelo de machine learning. Para eso utilizaremos la función Principal Component Analysis (PCA). Con esto queremos hacer que nuestro algoritmo de predicción sea más ágil, dado que los inputs procedentes de nuestro dataset son muchos. "
   ]
  },
  {
   "cell_type": "code",
   "execution_count": null,
   "metadata": {},
   "outputs": [],
   "source": [
    "#Primero tenemos que normalizar los datos de nuestra dataset: \n",
    "\n",
    "from sklearn import preprocessing \n",
    "from sklearn.cluster import KMeans"
   ]
  },
  {
   "cell_type": "code",
   "execution_count": null,
   "metadata": {},
   "outputs": [],
   "source": [
    "#Normalizamos: \n",
    "min_max_scaler = preprocessing.MinMaxScaler()\n",
    "df_cancernorm = min_max_scaler.fit_transform(df_cancer)\n",
    "df_cancernorm  = pd.DataFrame(df_cancer)\n",
    "df_cancernorm"
   ]
  },
  {
   "cell_type": "code",
   "execution_count": null,
   "metadata": {},
   "outputs": [],
   "source": [
    "#Utilizaremos PCA en python para poder juntar la columnas y definir una variable X y otra Y para poder realizar el modelo de\n",
    "\n",
    "from sklearn.decomposition import PCA\n",
    "\n",
    "pca = PCA(n_components = 2)\n",
    "principalComponents = pca.fit_transform(df_cancernorm)\n",
    "principalDf = pd.DataFrame(data = principalComponents\n",
    "                           , columns = ['principal component 1', 'principal component 2'])\n",
    "principalDf"
   ]
  },
  {
   "cell_type": "code",
   "execution_count": null,
   "metadata": {},
   "outputs": [],
   "source": [
    "#Representamos la distribución de nuestro data set sobre el cancer de mama, dada la agrupación realizada a partir de la función PCA: \n",
    "\n",
    "x = principalDf['principal component 1'].values\n",
    "y = principalDf['principal component 2'].values\n",
    "plt.xlabel('Component 1')\n",
    "plt.ylabel('Component 2')\n",
    "plt.title('Distribución de nuestro dataset')\n",
    "plt.plot(x,y,'o',markersize=1)"
   ]
  },
  {
   "cell_type": "code",
   "execution_count": null,
   "metadata": {},
   "outputs": [],
   "source": [
    "#Aplicación del modelo K-means k = 6. Véase la nota (*1). \n",
    "kmeans_model = KMeans(n_clusters=6).fit(principalDf)\n",
    "cluster_model = kmeans_model.cluster_centers_\n",
    "print(cluster_model)\n",
    "\n",
    "#Véase que la función aplicada nos mostrá las coordenadas de cada uno de los centros de los clústers que se forman. "
   ]
  },
  {
   "cell_type": "code",
   "execution_count": null,
   "metadata": {},
   "outputs": [],
   "source": [
    "#Etiquetaaremos los datos. Véase que asignaremos cada uno de nuestros registros a uno de los clústers que hemos encontrado: \n",
    "\n",
    "labels = kmeans_model.predict(principalDf)"
   ]
  },
  {
   "cell_type": "markdown",
   "metadata": {},
   "source": [
    "Una vez hemos asignado nuestros registros a cada uno de los clústers que hemos definido, realizaremos una representación gráfica de estos para poder realizar una análsis visual. "
   ]
  },
  {
   "cell_type": "code",
   "execution_count": null,
   "metadata": {
    "scrolled": true
   },
   "outputs": [],
   "source": [
    "#Representación gráfica de los clústers de kmeans: \n",
    "\n",
    "colores=['red','green','blue','yellow','fuchsia','black']\n",
    "asignar=[]\n",
    "for row in labels:\n",
    "     asignar.append(colores[row])\n",
    "plt.scatter(x, y, c=asignar, s=1)\n",
    "plt.scatter(cluster_model[:, 0], cluster_model[:, 1], marker='*', c='black', s=20)\n",
    "plt.xlabel('Component 1')\n",
    "plt.ylabel('Component 2')\n",
    "plt.title('Representación clústers k-means')\n",
    "plt.show()\n"
   ]
  }
 ],
 "metadata": {
  "kernelspec": {
   "display_name": "Python 3",
   "language": "python",
   "name": "python3"
  },
  "language_info": {
   "codemirror_mode": {
    "name": "ipython",
    "version": 3
   },
   "file_extension": ".py",
   "mimetype": "text/x-python",
   "name": "python",
   "nbconvert_exporter": "python",
   "pygments_lexer": "ipython3",
   "version": "3.7.4"
  }
 },
 "nbformat": 4,
 "nbformat_minor": 2
}
